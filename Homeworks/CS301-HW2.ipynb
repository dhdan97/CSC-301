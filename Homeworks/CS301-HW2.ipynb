{
 "cells": [
  {
   "cell_type": "code",
   "execution_count": 1,
   "metadata": {},
   "outputs": [],
   "source": [
    "#import libraries\n",
    "import math as m\n",
    "import pandas as pd\n",
    "import numpy as np\n",
    "import matplotlib.pyplot as plt\n",
    "import scipy.linalg as lin"
   ]
  },
  {
   "cell_type": "markdown",
   "metadata": {},
   "source": [
    "for estimating the condition number of matrix A(using 1-norm), we need to compute ||A||:"
   ]
  },
  {
   "cell_type": "code",
   "execution_count": 3,
   "metadata": {},
   "outputs": [
    {
     "data": {
      "text/plain": [
       "18.0"
      ]
     },
     "execution_count": 3,
     "metadata": {},
     "output_type": "execute_result"
    }
   ],
   "source": [
    "A = np.array([[10, -7, 0],\n",
    "              [-3, 2, 6],\n",
    "              [5, -1, 5]])\n",
    "A_1_norm = np.linalg.norm(A, 1)#maximum abs. column sum\n",
    "A_1_norm"
   ]
  },
  {
   "cell_type": "markdown",
   "metadata": {},
   "source": [
    "We also need to estimate ||A^(-1)||. We know that if z is the solution to Az = y, then:\n",
    "<br>||z|| = ||A^(-1) * y|| <= ||A^(-1)|| * ||y||, <- Property of Matrix Norms\n",
    "<br>so that\n",
    "||z|| / ||y|| <= ||A^(-1)||\n",
    "<br>If we can choose a vector y so that ||z|| / ||y|| is as large as possible, then we will\n",
    "have a reasonable estimate for ||A^(-1)||."
   ]
  },
  {
   "cell_type": "markdown",
   "metadata": {},
   "source": [
    "Method 1 (a): "
   ]
  },
  {
   "cell_type": "code",
   "execution_count": 25,
   "metadata": {},
   "outputs": [
    {
     "data": {
      "text/plain": [
       "0.6226153312521677"
      ]
     },
     "execution_count": 25,
     "metadata": {},
     "output_type": "execute_result"
    }
   ],
   "source": [
    "#the way section 2.3.3 does it\n",
    "AT = np.matrix.transpose(A)\n",
    "c = [-1, -1, 1] #makes y the biggest\n",
    "y = lin.solve(AT, c)\n",
    "\n",
    "z = lin.solve(A, y)\n",
    "z_1_norm = np.linalg.norm(z, 1)\n",
    "y_1_norm = np.linalg.norm(y, 1)\n",
    "\n",
    "#now ||A^(-1)|| approx. equals ||z|| / ||y||:\n",
    "A_1_inv_norm_approx = z_1_norm / y_1_norm\n",
    "A_1_inv_norm_approx"
   ]
  },
  {
   "cell_type": "code",
   "execution_count": 26,
   "metadata": {},
   "outputs": [
    {
     "data": {
      "text/plain": [
       "1.4896774193548388"
      ]
     },
     "execution_count": 26,
     "metadata": {},
     "output_type": "execute_result"
    }
   ],
   "source": [
    "#the way the question wants you to find y:\n",
    "L = lin.lu(A)[1]\n",
    "U = lin.lu(A)[2]\n",
    "LT = np.matrix.transpose(L)\n",
    "UT = np.matrix.transpose(U)\n",
    "c = [-1, -1, 1]\n",
    "v = lin.solve(UT, c)\n",
    "np.linalg.norm(v,1)"
   ]
  },
  {
   "cell_type": "code",
   "execution_count": 27,
   "metadata": {},
   "outputs": [
    {
     "data": {
      "text/plain": [
       "1.7999999999999998"
      ]
     },
     "execution_count": 27,
     "metadata": {},
     "output_type": "execute_result"
    }
   ],
   "source": [
    "#book question way pt2\n",
    "y = lin.solve(LT, v)\n",
    "y\n",
    "np.linalg.norm(y, 1)"
   ]
  },
  {
   "cell_type": "code",
   "execution_count": 29,
   "metadata": {},
   "outputs": [
    {
     "data": {
      "text/plain": [
       "0.6226153312521677"
      ]
     },
     "execution_count": 29,
     "metadata": {},
     "output_type": "execute_result"
    }
   ],
   "source": [
    "#now ||A^(-1)|| approx. equals ||z|| / ||y||:\n",
    "A_1_inv_norm_approx = np.linalg.norm(z, 1) / np.linalg.norm(y, 1)\n",
    "A_1_inv_norm_approx"
   ]
  },
  {
   "cell_type": "code",
   "execution_count": 31,
   "metadata": {},
   "outputs": [
    {
     "name": "stdout",
     "output_type": "stream",
     "text": [
      "11.207075962539019\n",
      "12.774193548387096\n"
     ]
    }
   ],
   "source": [
    "#hence, cond(A) = ||A|| * ||A^(-1)||:\n",
    "A_cond = A_1_norm * A_1_inv_norm_approx \n",
    "print(A_cond)\n",
    "print(np.linalg.cond(A, 1))"
   ]
  },
  {
   "cell_type": "markdown",
   "metadata": {},
   "source": [
    "Method 2 (b) with 1-norm:"
   ]
  },
  {
   "cell_type": "code",
   "execution_count": 55,
   "metadata": {},
   "outputs": [],
   "source": [
    "np.random.seed(42)#5 random vectors\n",
    "y1 = np.random.rand(1,3)[0]\n",
    "y2 = np.random.rand(1,3)[0]\n",
    "y3 = np.random.rand(1,3)[0]\n",
    "y4 = np.random.rand(1,3)[0]\n",
    "y5 = np.random.rand(1,3)[0]\n",
    "\n",
    "y_list = [y1, y2, y3, y4, y5]"
   ]
  },
  {
   "cell_type": "code",
   "execution_count": 65,
   "metadata": {},
   "outputs": [
    {
     "name": "stdout",
     "output_type": "stream",
     "text": [
      "0.3239941651183576\n"
     ]
    }
   ],
   "source": [
    "#Lets take the y vector with the largest ratio of ||z|| / ||y|| i.e  ||A^(-1)|| approx.\n",
    "A_inv_norm_approx_list = []\n",
    "for y in y_list:\n",
    "    z = lin.solve(A, y)\n",
    "    A_inv_norm_approx =  np.linalg.norm(z, 1) /  np.linalg.norm(y, 1)\n",
    "    A_inv_approx_list.append(A_inv_norm_approx)\n",
    "\n",
    "print(max(A_inv_approx_list))\n",
    "A_inv_norm_approx = max(A_inv_approx_list)"
   ]
  },
  {
   "cell_type": "code",
   "execution_count": null,
   "metadata": {},
   "outputs": [],
   "source": []
  }
 ],
 "metadata": {
  "kernelspec": {
   "display_name": "Python 3",
   "language": "python",
   "name": "python3"
  },
  "language_info": {
   "codemirror_mode": {
    "name": "ipython",
    "version": 3
   },
   "file_extension": ".py",
   "mimetype": "text/x-python",
   "name": "python",
   "nbconvert_exporter": "python",
   "pygments_lexer": "ipython3",
   "version": "3.7.4"
  }
 },
 "nbformat": 4,
 "nbformat_minor": 4
}
