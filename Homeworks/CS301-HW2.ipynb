{
 "cells": [
  {
   "cell_type": "code",
   "execution_count": 1,
   "metadata": {},
   "outputs": [],
   "source": [
    "#import libraries\n",
    "import math as m\n",
    "import pandas as pd\n",
    "import numpy as np\n",
    "import matplotlib.pyplot as plt\n",
    "import scipy.linalg as lin"
   ]
  },
  {
   "cell_type": "markdown",
   "metadata": {},
   "source": [
    "for estimating the condition number of matrix A(using 1-norm), we need to compute ||A||:"
   ]
  },
  {
   "cell_type": "code",
   "execution_count": 14,
   "metadata": {},
   "outputs": [
    {
     "data": {
      "text/plain": [
       "18.0"
      ]
     },
     "execution_count": 14,
     "metadata": {},
     "output_type": "execute_result"
    }
   ],
   "source": [
    "A = np.array([[10, -7, 0],\n",
    "              [-3, 2, 6],\n",
    "              [5, -1, 5]])\n",
    "A_1_norm = np.linalg.norm(A, 1)#maximum abs. column sum\n",
    "A_1_norm"
   ]
  },
  {
   "cell_type": "markdown",
   "metadata": {},
   "source": [
    "We also need to estimate ||A^(-1)||. We know that if z is the solution to Az = y, then:\n",
    "<br>||z|| = ||A^(-1) * y|| <= ||A^(-1)|| * ||y||, <- Property of Matrix Norms\n",
    "<br>so that\n",
    "||z|| / ||y|| <= ||A^(-1)||\n",
    "<br>If we can choose a vector y so that ||z|| / ||y|| is as large as possible, then we will\n",
    "have a reasonable estimate for ||A^(-1)||."
   ]
  },
  {
   "cell_type": "markdown",
   "metadata": {},
   "source": [
    "Method 1 (a): "
   ]
  },
  {
   "cell_type": "code",
   "execution_count": 129,
   "metadata": {},
   "outputs": [
    {
     "data": {
      "text/plain": [
       "array([ 0.43870968,  0.70967742, -0.6516129 ])"
      ]
     },
     "execution_count": 129,
     "metadata": {},
     "output_type": "execute_result"
    }
   ],
   "source": [
    "AT = np.matrix.transpose(A)\n",
    "c = [-1, -1, 1] #makes y the biggest\n",
    "y = lin.solve(AT, c)\n",
    "lin.solve(AT, c)"
   ]
  },
  {
   "cell_type": "code",
   "execution_count": 124,
   "metadata": {},
   "outputs": [
    {
     "data": {
      "text/plain": [
       "0.9879483992305184"
      ]
     },
     "execution_count": 124,
     "metadata": {},
     "output_type": "execute_result"
    }
   ],
   "source": [
    "#the way book finds y:\n",
    "L = lin.lu(A)[1]\n",
    "U = lin.lu(A)[2]\n",
    "LT = np.matrix.transpose(L)\n",
    "UT = np.matrix.transpose(U)\n",
    "c = [-1, -1, 1]\n",
    "v = lin.solve(UT, c)\n",
    "np.linalg.norm(v)"
   ]
  },
  {
   "cell_type": "code",
   "execution_count": 125,
   "metadata": {},
   "outputs": [
    {
     "data": {
      "text/plain": [
       "array([ 0.43870968, -0.6516129 ,  0.70967742])"
      ]
     },
     "execution_count": 125,
     "metadata": {},
     "output_type": "execute_result"
    }
   ],
   "source": [
    "#book way pt2\n",
    "y = lin.solve(LT, v)\n",
    "y"
   ]
  },
  {
   "cell_type": "code",
   "execution_count": 130,
   "metadata": {},
   "outputs": [
    {
     "data": {
      "text/plain": [
       "0.4524078130548048"
      ]
     },
     "execution_count": 130,
     "metadata": {},
     "output_type": "execute_result"
    }
   ],
   "source": [
    "#Let's get z by doing z = ||A^(-1) * y||:\n",
    "z = np.linalg.norm(lin.inv(A) * y)\n",
    "z"
   ]
  },
  {
   "cell_type": "code",
   "execution_count": 131,
   "metadata": {},
   "outputs": [
    {
     "data": {
      "text/plain": [
       "0.427350226762161"
      ]
     },
     "execution_count": 131,
     "metadata": {},
     "output_type": "execute_result"
    }
   ],
   "source": [
    "#now ||A^(-1)|| approx. equals ||z|| / ||y||:\n",
    "A_1_inv_norm_approx = np.linalg.norm(z) / np.linalg.norm(y)\n",
    "np.linalg.norm(z) / np.linalg.norm(y)"
   ]
  },
  {
   "cell_type": "code",
   "execution_count": 132,
   "metadata": {},
   "outputs": [
    {
     "name": "stdout",
     "output_type": "stream",
     "text": [
      "7.692304081718898\n",
      "9.40695646567548\n"
     ]
    }
   ],
   "source": [
    "#hence, cond(A) = ||A|| * ||A^(-1)||:\n",
    "A_cond = A_1_norm * A_1_inv_norm_approx \n",
    "print(A_cond)\n",
    "print(np.linalg.cond(A))"
   ]
  },
  {
   "cell_type": "markdown",
   "metadata": {},
   "source": [
    "Method 2 (b):"
   ]
  },
  {
   "cell_type": "code",
   "execution_count": 145,
   "metadata": {},
   "outputs": [],
   "source": [
    "y1 = [0.4,  0.7, -0.7]\n",
    "y2 = [0.5,  0.8, -0.9]"
   ]
  },
  {
   "cell_type": "code",
   "execution_count": 148,
   "metadata": {},
   "outputs": [
    {
     "data": {
      "text/plain": [
       "0.566573210550615"
      ]
     },
     "execution_count": 148,
     "metadata": {},
     "output_type": "execute_result"
    }
   ],
   "source": [
    "z = np.linalg.norm(lin.inv(A) * y2)\n",
    "z"
   ]
  },
  {
   "cell_type": "code",
   "execution_count": 149,
   "metadata": {},
   "outputs": [
    {
     "data": {
      "text/plain": [
       "0.4345418161111713"
      ]
     },
     "execution_count": 149,
     "metadata": {},
     "output_type": "execute_result"
    }
   ],
   "source": [
    "A_1_inv_norm_approx = np.linalg.norm(z) / np.linalg.norm(y2)\n",
    "np.linalg.norm(z) / np.linalg.norm(y2)"
   ]
  },
  {
   "cell_type": "code",
   "execution_count": 150,
   "metadata": {},
   "outputs": [
    {
     "name": "stdout",
     "output_type": "stream",
     "text": [
      "7.821752690001084\n",
      "9.40695646567548\n"
     ]
    }
   ],
   "source": [
    "A_cond = A_1_norm * A_1_inv_norm_approx \n",
    "print(A_cond)\n",
    "print(np.linalg.cond(A))"
   ]
  },
  {
   "cell_type": "code",
   "execution_count": null,
   "metadata": {},
   "outputs": [],
   "source": []
  }
 ],
 "metadata": {
  "kernelspec": {
   "display_name": "Python 3",
   "language": "python",
   "name": "python3"
  },
  "language_info": {
   "codemirror_mode": {
    "name": "ipython",
    "version": 3
   },
   "file_extension": ".py",
   "mimetype": "text/x-python",
   "name": "python",
   "nbconvert_exporter": "python",
   "pygments_lexer": "ipython3",
   "version": "3.7.4"
  }
 },
 "nbformat": 4,
 "nbformat_minor": 4
}
