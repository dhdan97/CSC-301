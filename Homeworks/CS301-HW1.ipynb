{
 "cells": [
  {
   "cell_type": "code",
   "execution_count": 111,
   "metadata": {},
   "outputs": [],
   "source": [
    "import math as m\n",
    "import pandas as pd\n",
    "import numpy as np\n",
    "import matplotlib.pyplot as plt"
   ]
  },
  {
   "cell_type": "code",
   "execution_count": null,
   "metadata": {},
   "outputs": [],
   "source": [
    "#1.5) (a)\n",
    "def function1(x):\n",
    "    result = (m.exp(x) - 1)/x\n",
    "    return result\n",
    "\n",
    "for k in range(1, 16):\n",
    "    print(function1(10 ** (-k)))"
   ]
  },
  {
   "cell_type": "code",
   "execution_count": null,
   "metadata": {},
   "outputs": [],
   "source": [
    "#1.5) (b)\n",
    "def function2(x):\n",
    "    result = (m.exp(x) - 1)/(m.log(m.exp(x)))\n",
    "    return result\n",
    "\n",
    "for k in range(1, 16):\n",
    "    print(function2(10 ** (-k)))"
   ]
  },
  {
   "cell_type": "code",
   "execution_count": 110,
   "metadata": {},
   "outputs": [
    {
     "data": {
      "text/html": [
       "<div>\n",
       "<style scoped>\n",
       "    .dataframe tbody tr th:only-of-type {\n",
       "        vertical-align: middle;\n",
       "    }\n",
       "\n",
       "    .dataframe tbody tr th {\n",
       "        vertical-align: top;\n",
       "    }\n",
       "\n",
       "    .dataframe thead th {\n",
       "        text-align: right;\n",
       "    }\n",
       "</style>\n",
       "<table border=\"1\" class=\"dataframe\">\n",
       "  <thead>\n",
       "    <tr style=\"text-align: right;\">\n",
       "      <th></th>\n",
       "      <th>k</th>\n",
       "      <th>Approx Value</th>\n",
       "      <th>Error</th>\n",
       "    </tr>\n",
       "  </thead>\n",
       "  <tbody>\n",
       "    <tr>\n",
       "      <td>0</td>\n",
       "      <td>0.0</td>\n",
       "      <td>-3.742448</td>\n",
       "      <td>7.167966e+00</td>\n",
       "    </tr>\n",
       "    <tr>\n",
       "      <td>1</td>\n",
       "      <td>1.0</td>\n",
       "      <td>4.073519</td>\n",
       "      <td>6.480005e-01</td>\n",
       "    </tr>\n",
       "    <tr>\n",
       "      <td>2</td>\n",
       "      <td>2.0</td>\n",
       "      <td>3.479830</td>\n",
       "      <td>5.431114e-02</td>\n",
       "    </tr>\n",
       "    <tr>\n",
       "      <td>3</td>\n",
       "      <td>3.0</td>\n",
       "      <td>3.430863</td>\n",
       "      <td>5.344396e-03</td>\n",
       "    </tr>\n",
       "    <tr>\n",
       "      <td>4</td>\n",
       "      <td>4.0</td>\n",
       "      <td>3.426052</td>\n",
       "      <td>5.335875e-04</td>\n",
       "    </tr>\n",
       "    <tr>\n",
       "      <td>5</td>\n",
       "      <td>5.0</td>\n",
       "      <td>3.425572</td>\n",
       "      <td>5.335026e-05</td>\n",
       "    </tr>\n",
       "    <tr>\n",
       "      <td>6</td>\n",
       "      <td>6.0</td>\n",
       "      <td>3.425524</td>\n",
       "      <td>5.334628e-06</td>\n",
       "    </tr>\n",
       "    <tr>\n",
       "      <td>7</td>\n",
       "      <td>7.0</td>\n",
       "      <td>3.425519</td>\n",
       "      <td>5.340235e-07</td>\n",
       "    </tr>\n",
       "    <tr>\n",
       "      <td>8</td>\n",
       "      <td>8.0</td>\n",
       "      <td>3.425519</td>\n",
       "      <td>2.554135e-08</td>\n",
       "    </tr>\n",
       "    <tr>\n",
       "      <td>9</td>\n",
       "      <td>9.0</td>\n",
       "      <td>3.425519</td>\n",
       "      <td>1.587681e-07</td>\n",
       "    </tr>\n",
       "    <tr>\n",
       "      <td>10</td>\n",
       "      <td>10.0</td>\n",
       "      <td>3.425518</td>\n",
       "      <td>1.173500e-06</td>\n",
       "    </tr>\n",
       "    <tr>\n",
       "      <td>11</td>\n",
       "      <td>11.0</td>\n",
       "      <td>3.425504</td>\n",
       "      <td>1.449618e-05</td>\n",
       "    </tr>\n",
       "    <tr>\n",
       "      <td>12</td>\n",
       "      <td>12.0</td>\n",
       "      <td>3.425704</td>\n",
       "      <td>1.853440e-04</td>\n",
       "    </tr>\n",
       "    <tr>\n",
       "      <td>13</td>\n",
       "      <td>13.0</td>\n",
       "      <td>3.421707</td>\n",
       "      <td>3.811459e-03</td>\n",
       "    </tr>\n",
       "    <tr>\n",
       "      <td>14</td>\n",
       "      <td>14.0</td>\n",
       "      <td>3.419487</td>\n",
       "      <td>6.031905e-03</td>\n",
       "    </tr>\n",
       "    <tr>\n",
       "      <td>15</td>\n",
       "      <td>15.0</td>\n",
       "      <td>3.774758</td>\n",
       "      <td>3.492395e-01</td>\n",
       "    </tr>\n",
       "    <tr>\n",
       "      <td>16</td>\n",
       "      <td>16.0</td>\n",
       "      <td>0.000000</td>\n",
       "      <td>3.425519e+00</td>\n",
       "    </tr>\n",
       "  </tbody>\n",
       "</table>\n",
       "</div>"
      ],
      "text/plain": [
       "       k  Approx Value         Error\n",
       "0    0.0     -3.742448  7.167966e+00\n",
       "1    1.0      4.073519  6.480005e-01\n",
       "2    2.0      3.479830  5.431114e-02\n",
       "3    3.0      3.430863  5.344396e-03\n",
       "4    4.0      3.426052  5.335875e-04\n",
       "5    5.0      3.425572  5.335026e-05\n",
       "6    6.0      3.425524  5.334628e-06\n",
       "7    7.0      3.425519  5.340235e-07\n",
       "8    8.0      3.425519  2.554135e-08\n",
       "9    9.0      3.425519  1.587681e-07\n",
       "10  10.0      3.425518  1.173500e-06\n",
       "11  11.0      3.425504  1.449618e-05\n",
       "12  12.0      3.425704  1.853440e-04\n",
       "13  13.0      3.421707  3.811459e-03\n",
       "14  14.0      3.419487  6.031905e-03\n",
       "15  15.0      3.774758  3.492395e-01\n",
       "16  16.0      0.000000  3.425519e+00"
      ]
     },
     "execution_count": 110,
     "metadata": {},
     "output_type": "execute_result"
    }
   ],
   "source": [
    "#1.7) (a)\n",
    "x = 1\n",
    "h = 1\n",
    "actualValue = (1/m.cos(x)) ** 2\n",
    "\n",
    "approxValue = np.array([])\n",
    "absError = np.array([])\n",
    "kValue = np.array([])\n",
    "df = pd.DataFrame()\n",
    "\n",
    "def tanPrime(h):\n",
    "    result = (m.tan(x + h) - m.tan(x)) / h\n",
    "    return result\n",
    "\n",
    "for k in range(0, 17):\n",
    "    tanPrimeValue = tanPrime(10 ** (-k))\n",
    "    error = abs(actualValue - tanPrimeValue)\n",
    "    #print(function3(10 ** (-k)))\n",
    "    kValue = np.insert(kValue, 0, k)\n",
    "    approxValue = np.insert(approxValue, 0, tanPrimeValue)\n",
    "    absError = np.insert(absError, 0, error)\n",
    "\n",
    "kValue = np.flip(kValue) \n",
    "approxValue = np.flip(approxValue)\n",
    "absError = np.flip(absError)\n",
    "\n",
    "df.insert(0, \"k\", kValue, True)    \n",
    "df.insert(1, \"Approx Value\", approxValue, True)\n",
    "df.insert(2, \"Error\", absError, True)\n",
    "df"
   ]
  },
  {
   "cell_type": "code",
   "execution_count": 113,
   "metadata": {},
   "outputs": [
    {
     "data": {
      "text/plain": [
       "<matplotlib.axes._subplots.AxesSubplot at 0x1e2b2894d08>"
      ]
     },
     "execution_count": 113,
     "metadata": {},
     "output_type": "execute_result"
    },
    {
     "data": {
      "text/plain": [
       "<Figure size 720x720 with 0 Axes>"
      ]
     },
     "metadata": {},
     "output_type": "display_data"
    },
    {
     "data": {
      "image/png": "[encoded data removed]",
      "text/plain": [
       "<Figure size 432x288 with 1 Axes>"
      ]
     },
     "metadata": {
      "needs_background": "light"
     },
     "output_type": "display_data"
    }
   ],
   "source": [
    "plt.figure(figsize=(10,10))\n",
    "df[].plot()"
   ]
  },
  {
   "cell_type": "code",
   "execution_count": null,
   "metadata": {},
   "outputs": [],
   "source": [
    "def function4(h):\n",
    "    result = (m.sec(1 + h) ** 2) - (m.sec(1) ** 2) / h\n",
    "    return result\n",
    "\n",
    "secSquared = np.array([])\n",
    "\n",
    "for k in range(0, 17):\n",
    "    #print(function3(10 ** (-k)))\n",
    "    secSquared = np.insert(secSquared, 0, function3(10 ** (-k)))"
   ]
  },
  {
   "cell_type": "code",
   "execution_count": null,
   "metadata": {},
   "outputs": [],
   "source": [
    "df = pd.DataFrame()\n",
    "df.insert(0, \"tan(1)\", tan, True)\n",
    "df.insert(1, \"sec^2(1)\", secSquared, True)\n",
    "df"
   ]
  },
  {
   "cell_type": "code",
   "execution_count": null,
   "metadata": {},
   "outputs": [],
   "source": []
  }
 ],
 "metadata": {
  "kernelspec": {
   "display_name": "Python 3",
   "language": "python",
   "name": "python3"
  },
  "language_info": {
   "codemirror_mode": {
    "name": "ipython",
    "version": 3
   },
   "file_extension": ".py",
   "mimetype": "text/x-python",
   "name": "python",
   "nbconvert_exporter": "python",
   "pygments_lexer": "ipython3",
   "version": "3.7.4"
  }
 },
 "nbformat": 4,
 "nbformat_minor": 4
}
